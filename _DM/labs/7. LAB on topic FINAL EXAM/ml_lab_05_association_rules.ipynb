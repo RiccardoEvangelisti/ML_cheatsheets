{
 "cells": [
  {
   "cell_type": "markdown",
   "metadata": {
    "slideshow": {
     "slide_type": "slide"
    }
   },
   "source": [
    "# Association Rules\n",
    "## Example with the [__Online Retail__](https://archive.ics.uci.edu/ml/datasets/online+retail) dataset, from UCI"
   ]
  },
  {
   "cell_type": "markdown",
   "metadata": {
    "slideshow": {
     "slide_type": "notes"
    }
   },
   "source": [
    "Code provided in this [link](http://pbpython.com/market-basket-analysis.html)"
   ]
  },
  {
   "cell_type": "code",
   "execution_count": 1,
   "metadata": {},
   "outputs": [],
   "source": [
    "import pandas as pd\n",
    "from mlxtend.frequent_patterns import apriori\n",
    "from mlxtend.frequent_patterns import association_rules\n",
    "\n",
    "import matplotlib.pyplot as plt\n",
    "%matplotlib inline"
   ]
  },
  {
   "cell_type": "markdown",
   "metadata": {},
   "source": [
    "Upload the file `'Online-Retail.xlsx'`. It is a MS Excel file, you can read it with the Pandas' function `read_excel` (it might take a while, use the csv version of the dataset if the process is too slow).\n",
    "\n",
    "Inspect its content. It is a transactional database where the role of transaction identifier is played by the column `InvoiceNo` and the items are in the column `Description`.\n",
    "\n",
    "The database has some problems:\n",
    "1. some descriptions represent the same item but have different leading or trailing spaces, therefore they must be made uniform with the Pandas' function `str.strip()`"
   ]
  },
  {
   "cell_type": "code",
   "execution_count": 2,
   "metadata": {},
   "outputs": [
    {
     "data": {
      "text/html": [
       "<div>\n",
       "<style scoped>\n",
       "    .dataframe tbody tr th:only-of-type {\n",
       "        vertical-align: middle;\n",
       "    }\n",
       "\n",
       "    .dataframe tbody tr th {\n",
       "        vertical-align: top;\n",
       "    }\n",
       "\n",
       "    .dataframe thead th {\n",
       "        text-align: right;\n",
       "    }\n",
       "</style>\n",
       "<table border=\"1\" class=\"dataframe\">\n",
       "  <thead>\n",
       "    <tr style=\"text-align: right;\">\n",
       "      <th></th>\n",
       "      <th>InvoiceNo</th>\n",
       "      <th>StockCode</th>\n",
       "      <th>Description</th>\n",
       "      <th>Quantity</th>\n",
       "      <th>InvoiceDate</th>\n",
       "      <th>UnitPrice</th>\n",
       "      <th>CustomerID</th>\n",
       "    </tr>\n",
       "  </thead>\n",
       "  <tbody>\n",
       "    <tr>\n",
       "      <th>0</th>\n",
       "      <td>536370</td>\n",
       "      <td>22728</td>\n",
       "      <td>ALARM CLOCK BAKELIKE PINK</td>\n",
       "      <td>24</td>\n",
       "      <td>2010-12-01 08:45:00</td>\n",
       "      <td>3.75</td>\n",
       "      <td>12583.0</td>\n",
       "    </tr>\n",
       "    <tr>\n",
       "      <th>1</th>\n",
       "      <td>536370</td>\n",
       "      <td>22727</td>\n",
       "      <td>ALARM CLOCK BAKELIKE RED</td>\n",
       "      <td>24</td>\n",
       "      <td>2010-12-01 08:45:00</td>\n",
       "      <td>3.75</td>\n",
       "      <td>12583.0</td>\n",
       "    </tr>\n",
       "    <tr>\n",
       "      <th>2</th>\n",
       "      <td>536370</td>\n",
       "      <td>22726</td>\n",
       "      <td>ALARM CLOCK BAKELIKE GREEN</td>\n",
       "      <td>12</td>\n",
       "      <td>2010-12-01 08:45:00</td>\n",
       "      <td>3.75</td>\n",
       "      <td>12583.0</td>\n",
       "    </tr>\n",
       "    <tr>\n",
       "      <th>3</th>\n",
       "      <td>536370</td>\n",
       "      <td>21724</td>\n",
       "      <td>PANDA AND BUNNIES STICKER SHEET</td>\n",
       "      <td>12</td>\n",
       "      <td>2010-12-01 08:45:00</td>\n",
       "      <td>0.85</td>\n",
       "      <td>12583.0</td>\n",
       "    </tr>\n",
       "    <tr>\n",
       "      <th>4</th>\n",
       "      <td>536370</td>\n",
       "      <td>21883</td>\n",
       "      <td>STARS GIFT TAPE</td>\n",
       "      <td>24</td>\n",
       "      <td>2010-12-01 08:45:00</td>\n",
       "      <td>0.65</td>\n",
       "      <td>12583.0</td>\n",
       "    </tr>\n",
       "    <tr>\n",
       "      <th>5</th>\n",
       "      <td>536370</td>\n",
       "      <td>10002</td>\n",
       "      <td>INFLATABLE POLITICAL GLOBE</td>\n",
       "      <td>48</td>\n",
       "      <td>2010-12-01 08:45:00</td>\n",
       "      <td>0.85</td>\n",
       "      <td>12583.0</td>\n",
       "    </tr>\n",
       "    <tr>\n",
       "      <th>6</th>\n",
       "      <td>536370</td>\n",
       "      <td>21791</td>\n",
       "      <td>VINTAGE HEADS AND TAILS CARD GAME</td>\n",
       "      <td>24</td>\n",
       "      <td>2010-12-01 08:45:00</td>\n",
       "      <td>1.25</td>\n",
       "      <td>12583.0</td>\n",
       "    </tr>\n",
       "    <tr>\n",
       "      <th>7</th>\n",
       "      <td>536370</td>\n",
       "      <td>21035</td>\n",
       "      <td>SET/2 RED RETROSPOT TEA TOWELS</td>\n",
       "      <td>18</td>\n",
       "      <td>2010-12-01 08:45:00</td>\n",
       "      <td>2.95</td>\n",
       "      <td>12583.0</td>\n",
       "    </tr>\n",
       "    <tr>\n",
       "      <th>8</th>\n",
       "      <td>536370</td>\n",
       "      <td>22326</td>\n",
       "      <td>ROUND SNACK BOXES SET OF4 WOODLAND</td>\n",
       "      <td>24</td>\n",
       "      <td>2010-12-01 08:45:00</td>\n",
       "      <td>2.95</td>\n",
       "      <td>12583.0</td>\n",
       "    </tr>\n",
       "    <tr>\n",
       "      <th>9</th>\n",
       "      <td>536370</td>\n",
       "      <td>22629</td>\n",
       "      <td>SPACEBOY LUNCH BOX</td>\n",
       "      <td>24</td>\n",
       "      <td>2010-12-01 08:45:00</td>\n",
       "      <td>1.95</td>\n",
       "      <td>12583.0</td>\n",
       "    </tr>\n",
       "    <tr>\n",
       "      <th>10</th>\n",
       "      <td>536370</td>\n",
       "      <td>22659</td>\n",
       "      <td>LUNCH BOX I LOVE LONDON</td>\n",
       "      <td>24</td>\n",
       "      <td>2010-12-01 08:45:00</td>\n",
       "      <td>1.95</td>\n",
       "      <td>12583.0</td>\n",
       "    </tr>\n",
       "    <tr>\n",
       "      <th>11</th>\n",
       "      <td>536370</td>\n",
       "      <td>22631</td>\n",
       "      <td>CIRCUS PARADE LUNCH BOX</td>\n",
       "      <td>24</td>\n",
       "      <td>2010-12-01 08:45:00</td>\n",
       "      <td>1.95</td>\n",
       "      <td>12583.0</td>\n",
       "    </tr>\n",
       "    <tr>\n",
       "      <th>12</th>\n",
       "      <td>536370</td>\n",
       "      <td>22661</td>\n",
       "      <td>CHARLOTTE BAG DOLLY GIRL DESIGN</td>\n",
       "      <td>20</td>\n",
       "      <td>2010-12-01 08:45:00</td>\n",
       "      <td>0.85</td>\n",
       "      <td>12583.0</td>\n",
       "    </tr>\n",
       "    <tr>\n",
       "      <th>13</th>\n",
       "      <td>536370</td>\n",
       "      <td>21731</td>\n",
       "      <td>RED TOADSTOOL LED NIGHT LIGHT</td>\n",
       "      <td>24</td>\n",
       "      <td>2010-12-01 08:45:00</td>\n",
       "      <td>1.65</td>\n",
       "      <td>12583.0</td>\n",
       "    </tr>\n",
       "    <tr>\n",
       "      <th>14</th>\n",
       "      <td>536370</td>\n",
       "      <td>22900</td>\n",
       "      <td>SET 2 TEA TOWELS I LOVE LONDON</td>\n",
       "      <td>24</td>\n",
       "      <td>2010-12-01 08:45:00</td>\n",
       "      <td>2.95</td>\n",
       "      <td>12583.0</td>\n",
       "    </tr>\n",
       "    <tr>\n",
       "      <th>15</th>\n",
       "      <td>536370</td>\n",
       "      <td>21913</td>\n",
       "      <td>VINTAGE SEASIDE JIGSAW PUZZLES</td>\n",
       "      <td>12</td>\n",
       "      <td>2010-12-01 08:45:00</td>\n",
       "      <td>3.75</td>\n",
       "      <td>12583.0</td>\n",
       "    </tr>\n",
       "    <tr>\n",
       "      <th>16</th>\n",
       "      <td>536370</td>\n",
       "      <td>22540</td>\n",
       "      <td>MINI JIGSAW CIRCUS PARADE</td>\n",
       "      <td>24</td>\n",
       "      <td>2010-12-01 08:45:00</td>\n",
       "      <td>0.42</td>\n",
       "      <td>12583.0</td>\n",
       "    </tr>\n",
       "    <tr>\n",
       "      <th>17</th>\n",
       "      <td>536370</td>\n",
       "      <td>22544</td>\n",
       "      <td>MINI JIGSAW SPACEBOY</td>\n",
       "      <td>24</td>\n",
       "      <td>2010-12-01 08:45:00</td>\n",
       "      <td>0.42</td>\n",
       "      <td>12583.0</td>\n",
       "    </tr>\n",
       "    <tr>\n",
       "      <th>18</th>\n",
       "      <td>536370</td>\n",
       "      <td>22492</td>\n",
       "      <td>MINI PAINT SET VINTAGE</td>\n",
       "      <td>36</td>\n",
       "      <td>2010-12-01 08:45:00</td>\n",
       "      <td>0.65</td>\n",
       "      <td>12583.0</td>\n",
       "    </tr>\n",
       "    <tr>\n",
       "      <th>19</th>\n",
       "      <td>536370</td>\n",
       "      <td>POST</td>\n",
       "      <td>POSTAGE</td>\n",
       "      <td>3</td>\n",
       "      <td>2010-12-01 08:45:00</td>\n",
       "      <td>18.00</td>\n",
       "      <td>12583.0</td>\n",
       "    </tr>\n",
       "  </tbody>\n",
       "</table>\n",
       "</div>"
      ],
      "text/plain": [
       "   InvoiceNo StockCode                          Description  Quantity  \\\n",
       "0     536370     22728            ALARM CLOCK BAKELIKE PINK        24   \n",
       "1     536370     22727            ALARM CLOCK BAKELIKE RED         24   \n",
       "2     536370     22726           ALARM CLOCK BAKELIKE GREEN        12   \n",
       "3     536370     21724      PANDA AND BUNNIES STICKER SHEET        12   \n",
       "4     536370     21883                     STARS GIFT TAPE         24   \n",
       "5     536370     10002          INFLATABLE POLITICAL GLOBE         48   \n",
       "6     536370     21791   VINTAGE HEADS AND TAILS CARD GAME         24   \n",
       "7     536370     21035      SET/2 RED RETROSPOT TEA TOWELS         18   \n",
       "8     536370     22326  ROUND SNACK BOXES SET OF4 WOODLAND         24   \n",
       "9     536370     22629                  SPACEBOY LUNCH BOX         24   \n",
       "10    536370     22659              LUNCH BOX I LOVE LONDON        24   \n",
       "11    536370     22631             CIRCUS PARADE LUNCH BOX         24   \n",
       "12    536370     22661      CHARLOTTE BAG DOLLY GIRL DESIGN        20   \n",
       "13    536370     21731        RED TOADSTOOL LED NIGHT LIGHT        24   \n",
       "14    536370     22900      SET 2 TEA TOWELS I LOVE LONDON         24   \n",
       "15    536370     21913       VINTAGE SEASIDE JIGSAW PUZZLES        12   \n",
       "16    536370     22540           MINI JIGSAW CIRCUS PARADE         24   \n",
       "17    536370     22544                 MINI JIGSAW SPACEBOY        24   \n",
       "18    536370     22492              MINI PAINT SET VINTAGE         36   \n",
       "19    536370      POST                              POSTAGE         3   \n",
       "\n",
       "            InvoiceDate  UnitPrice  CustomerID  \n",
       "0   2010-12-01 08:45:00       3.75     12583.0  \n",
       "1   2010-12-01 08:45:00       3.75     12583.0  \n",
       "2   2010-12-01 08:45:00       3.75     12583.0  \n",
       "3   2010-12-01 08:45:00       0.85     12583.0  \n",
       "4   2010-12-01 08:45:00       0.65     12583.0  \n",
       "5   2010-12-01 08:45:00       0.85     12583.0  \n",
       "6   2010-12-01 08:45:00       1.25     12583.0  \n",
       "7   2010-12-01 08:45:00       2.95     12583.0  \n",
       "8   2010-12-01 08:45:00       2.95     12583.0  \n",
       "9   2010-12-01 08:45:00       1.95     12583.0  \n",
       "10  2010-12-01 08:45:00       1.95     12583.0  \n",
       "11  2010-12-01 08:45:00       1.95     12583.0  \n",
       "12  2010-12-01 08:45:00       0.85     12583.0  \n",
       "13  2010-12-01 08:45:00       1.65     12583.0  \n",
       "14  2010-12-01 08:45:00       2.95     12583.0  \n",
       "15  2010-12-01 08:45:00       3.75     12583.0  \n",
       "16  2010-12-01 08:45:00       0.42     12583.0  \n",
       "17  2010-12-01 08:45:00       0.42     12583.0  \n",
       "18  2010-12-01 08:45:00       0.65     12583.0  \n",
       "19  2010-12-01 08:45:00      18.00     12583.0  "
      ]
     },
     "execution_count": 2,
     "metadata": {},
     "output_type": "execute_result"
    }
   ],
   "source": [
    "# url = 'http://archive.ics.uci.edu/ml/machine-learning-databases/00352/Online%20Retail.xlsx'\n",
    "# url = 'machineLearning-05-association-rules-lab/Online-Retail.xlsx'\n",
    "# url = 'Online-Retail.xlsx'\n",
    "# df0 = pd.read_excel(url)\n",
    "\n",
    "# Snippet for Colab execution. If not in Colab this will run without interference\n",
    "try:\n",
    "    from google.colab import files\n",
    "\n",
    "    IN_COLAB = True\n",
    "except:\n",
    "    IN_COLAB = False\n",
    "if IN_COLAB:\n",
    "    uploaded = files.upload()  # if executing in Colab this will open\n",
    "    # a file upload dialog\n",
    "\n",
    "url = \"Online-Retail-France.xlsx\"\n",
    "df0 = pd.read_excel(url)\n",
    "df0.head(20)"
   ]
  },
  {
   "cell_type": "code",
   "execution_count": 3,
   "metadata": {},
   "outputs": [
    {
     "name": "stdout",
     "output_type": "stream",
     "text": [
      "The number of unique Description values in the input file is 1565\n",
      "The number of unique InvoiceNo values in the input file is: 461\n",
      "The number of unique StockCode values in the input file is: 1543\n",
      "The number of unique Description values in the input file is: 1565\n",
      "The number of unique Quantity values in the input file is: 77\n",
      "The number of unique InvoiceDate values in the input file is: 461\n",
      "The number of unique UnitPrice values in the input file is: 97\n",
      "The number of unique CustomerID values in the input file is: 88\n"
     ]
    }
   ],
   "source": [
    "print(\n",
    "    \"The number of unique Description values in the input file is {}\".format(\n",
    "        len(df0[\"Description\"].unique())\n",
    "    )\n",
    ")\n",
    "\n",
    "\n",
    "\n",
    "# extra nostro per fare lo stesso per tutti gli attributi\n",
    "\n",
    "\n",
    "for a in df0.columns:\n",
    "\n",
    "    print(\n",
    "        \"The number of unique \"\n",
    "        + str(a)\n",
    "        + \" values in the input file is: \"\n",
    "        + str(df0[a].unique().size)\n",
    "    )"
   ]
  },
  {
   "cell_type": "code",
   "execution_count": 4,
   "metadata": {},
   "outputs": [],
   "source": [
    "# rimozione delle righe con description con spazi extra\n",
    "df1 = df0\n",
    "df1[\"Description\"] = df0[\"Description\"].str.strip()"
   ]
  },
  {
   "cell_type": "code",
   "execution_count": 5,
   "metadata": {},
   "outputs": [
    {
     "name": "stdout",
     "output_type": "stream",
     "text": [
      "After cleaning, the number of unique Description values in the input file is 1564\n"
     ]
    }
   ],
   "source": [
    "print(\n",
    "    \"After cleaning, the number of unique Description values in the input file is {}\".format(\n",
    "        len(df1[\"Description\"].unique())\n",
    "    )\n",
    ")"
   ]
  },
  {
   "cell_type": "markdown",
   "metadata": {},
   "source": [
    "Some rows may not have an `InvoiceNo` and must be removed, because they cannot be used.\n",
    "\n",
    "Check if there are such that rows and in case remove them. You can check with the Pandas' function `isna` and remove with `dropna` on `axis=0`, with the option `subset`"
   ]
  },
  {
   "cell_type": "code",
   "execution_count": 6,
   "metadata": {},
   "outputs": [
    {
     "name": "stdout",
     "output_type": "stream",
     "text": [
      "Rows with missing InvoiceNo before removing\n"
     ]
    },
    {
     "data": {
      "text/html": [
       "<div>\n",
       "<style scoped>\n",
       "    .dataframe tbody tr th:only-of-type {\n",
       "        vertical-align: middle;\n",
       "    }\n",
       "\n",
       "    .dataframe tbody tr th {\n",
       "        vertical-align: top;\n",
       "    }\n",
       "\n",
       "    .dataframe thead th {\n",
       "        text-align: right;\n",
       "    }\n",
       "</style>\n",
       "<table border=\"1\" class=\"dataframe\">\n",
       "  <thead>\n",
       "    <tr style=\"text-align: right;\">\n",
       "      <th></th>\n",
       "      <th>InvoiceNo</th>\n",
       "      <th>StockCode</th>\n",
       "      <th>Description</th>\n",
       "      <th>Quantity</th>\n",
       "      <th>InvoiceDate</th>\n",
       "      <th>UnitPrice</th>\n",
       "      <th>CustomerID</th>\n",
       "    </tr>\n",
       "  </thead>\n",
       "  <tbody>\n",
       "  </tbody>\n",
       "</table>\n",
       "</div>"
      ],
      "text/plain": [
       "Empty DataFrame\n",
       "Columns: [InvoiceNo, StockCode, Description, Quantity, InvoiceDate, UnitPrice, CustomerID]\n",
       "Index: []"
      ]
     },
     "execution_count": 6,
     "metadata": {},
     "output_type": "execute_result"
    }
   ],
   "source": [
    "print(\"Rows with missing InvoiceNo before removing\")\n",
    "df1[df1[\"InvoiceNo\"].isna()]"
   ]
  },
  {
   "cell_type": "code",
   "execution_count": 7,
   "metadata": {},
   "outputs": [],
   "source": [
    "df2 = df1.dropna(axis=0, subset=[\"InvoiceNo\"])\n",
    "\n",
    "\n",
    "# marco lorenzo abbiamo aggiunto parametro inplace=True per sovrascrivere il dataframe\n",
    "# dfNoNull.dropna(axis = 0, subset=['InvoiceNo'], inplace=True)"
   ]
  },
  {
   "cell_type": "code",
   "execution_count": 8,
   "metadata": {},
   "outputs": [
    {
     "name": "stdout",
     "output_type": "stream",
     "text": [
      "Rows with missing InvoiceNo after removing\n"
     ]
    },
    {
     "data": {
      "text/html": [
       "<div>\n",
       "<style scoped>\n",
       "    .dataframe tbody tr th:only-of-type {\n",
       "        vertical-align: middle;\n",
       "    }\n",
       "\n",
       "    .dataframe tbody tr th {\n",
       "        vertical-align: top;\n",
       "    }\n",
       "\n",
       "    .dataframe thead th {\n",
       "        text-align: right;\n",
       "    }\n",
       "</style>\n",
       "<table border=\"1\" class=\"dataframe\">\n",
       "  <thead>\n",
       "    <tr style=\"text-align: right;\">\n",
       "      <th></th>\n",
       "      <th>InvoiceNo</th>\n",
       "      <th>StockCode</th>\n",
       "      <th>Description</th>\n",
       "      <th>Quantity</th>\n",
       "      <th>InvoiceDate</th>\n",
       "      <th>UnitPrice</th>\n",
       "      <th>CustomerID</th>\n",
       "    </tr>\n",
       "  </thead>\n",
       "  <tbody>\n",
       "  </tbody>\n",
       "</table>\n",
       "</div>"
      ],
      "text/plain": [
       "Empty DataFrame\n",
       "Columns: [InvoiceNo, StockCode, Description, Quantity, InvoiceDate, UnitPrice, CustomerID]\n",
       "Index: []"
      ]
     },
     "execution_count": 8,
     "metadata": {},
     "output_type": "execute_result"
    }
   ],
   "source": [
    "print(\"Rows with missing InvoiceNo after removing\")\n",
    "df2[df2[\"InvoiceNo\"].isna()]"
   ]
  },
  {
   "cell_type": "markdown",
   "metadata": {},
   "source": [
    "Some InvoiceNo start with a `C`. They are \"credit transactions\" and must be removed.\n",
    "\n",
    "Check the number of rows containing `C` in `InvoiceNo` and remove them. \n",
    "At the moment the column `InvoiceNo` is a generic object, in order to be \n",
    "able to use string functions, such as `contains`, it must be transformed into `str` with `astype`."
   ]
  },
  {
   "cell_type": "code",
   "execution_count": 9,
   "metadata": {},
   "outputs": [
    {
     "name": "stdout",
     "output_type": "stream",
     "text": [
      "There are 149 rows containing 'C' in 'InvoiceNo'\n"
     ]
    }
   ],
   "source": [
    "# Controllo di righe che CONTENGONO C nell'attributo InvoiceNo\n",
    "print(\n",
    "    \"There are {} rows containing 'C' in 'InvoiceNo'\".format(\n",
    "        sum(df2[\"InvoiceNo\"].astype(\"str\").str.contains(\"C\"))\n",
    "    )\n",
    ")\n",
    "\n",
    "# Rimozione di righe che CONTENGONO C nell'attributo InvoiceNo\n",
    "df3 = df2[~df2[\"InvoiceNo\"].astype(\"str\").str.contains(\"C\")]\n",
    "\n",
    "# Noi abbiamo fatto Rimozione di righe hanno l'attributo InvoiceNo che COMINCIA con C\n",
    "# rowsWithInvoiceNoWithC = dfNoNull['InvoiceNo'].str.startswith('C',na=False)\n",
    "# dfNoNull[rowsWithInvoiceNoWithC].shape[0]"
   ]
  },
  {
   "cell_type": "code",
   "execution_count": 10,
   "metadata": {},
   "outputs": [
    {
     "name": "stdout",
     "output_type": "stream",
     "text": [
      "After removal, there are 0 rows containing 'C' in 'InvoiceNo'\n"
     ]
    }
   ],
   "source": [
    "print(\n",
    "    \"After removal, there are {} rows containing 'C' in 'InvoiceNo'\".format(\n",
    "        sum(df3[\"InvoiceNo\"].astype(\"str\").str.contains(\"C\"))\n",
    "    )\n",
    ")"
   ]
  },
  {
   "cell_type": "markdown",
   "metadata": {},
   "source": [
    "Several transactions include the item `'POSTAGE'`, \n",
    "which represents the mailing expenses. \n",
    "In this analysis we are not interested in it, therefore the rows \n",
    "with `'POSTAGE'` will be removed."
   ]
  },
  {
   "cell_type": "code",
   "execution_count": 11,
   "metadata": {},
   "outputs": [
    {
     "name": "stdout",
     "output_type": "stream",
     "text": [
      "There are 311 rows containing POSTAGE in Description\n"
     ]
    }
   ],
   "source": [
    "container = \"Description\"\n",
    "target = \"POSTAGE\"\n",
    "print(\n",
    "    \"There are {} rows containing {} in {}\".format(\n",
    "        sum(df2[container].astype(\"str\").str.contains(target)), target, container\n",
    "    )\n",
    ")\n",
    "\n",
    "\n",
    "# IL PROF HA DIMENTICATO DI CANCELLARE LE RIGHE!! Noi abbiamo fatto così\n",
    "# check\n",
    "# rowsWithPostage = dfWithoutC[dfWithoutC['Description'].str.contains('POSTAGE', na=False)]\n",
    "# print(\"Rows with Postage: \"+str(rowsWithPostage.shape[0]))\n",
    "\n",
    "# rimozione\n",
    "# dfWithoutPostage = dfWithoutC.drop(rowsWithPostage.index)\n",
    "# print(dfWithoutPostage.shape)"
   ]
  },
  {
   "cell_type": "code",
   "execution_count": 12,
   "metadata": {},
   "outputs": [],
   "source": [
    "df = df3[~df3[container].astype(\"str\").str.contains(target)]"
   ]
  },
  {
   "cell_type": "code",
   "execution_count": 13,
   "metadata": {},
   "outputs": [
    {
     "data": {
      "text/plain": [
       "<bound method NDFrame.describe of      InvoiceNo StockCode                      Description  Quantity  \\\n",
       "0       536370     22728        ALARM CLOCK BAKELIKE PINK        24   \n",
       "1       536370     22727         ALARM CLOCK BAKELIKE RED        24   \n",
       "2       536370     22726       ALARM CLOCK BAKELIKE GREEN        12   \n",
       "3       536370     21724  PANDA AND BUNNIES STICKER SHEET        12   \n",
       "4       536370     21883                  STARS GIFT TAPE        24   \n",
       "...        ...       ...                              ...       ...   \n",
       "8552    581587     22613      PACK OF 20 SPACEBOY NAPKINS        12   \n",
       "8553    581587     22899      CHILDREN'S APRON DOLLY GIRL         6   \n",
       "8554    581587     23254     CHILDRENS CUTLERY DOLLY GIRL         4   \n",
       "8555    581587     23255  CHILDRENS CUTLERY CIRCUS PARADE         4   \n",
       "8556    581587     22138     BAKING SET 9 PIECE RETROSPOT         3   \n",
       "\n",
       "              InvoiceDate  UnitPrice  CustomerID  \n",
       "0     2010-12-01 08:45:00       3.75     12583.0  \n",
       "1     2010-12-01 08:45:00       3.75     12583.0  \n",
       "2     2010-12-01 08:45:00       3.75     12583.0  \n",
       "3     2010-12-01 08:45:00       0.85     12583.0  \n",
       "4     2010-12-01 08:45:00       0.65     12583.0  \n",
       "...                   ...        ...         ...  \n",
       "8552  2011-12-09 12:50:00       0.85     12680.0  \n",
       "8553  2011-12-09 12:50:00       2.10     12680.0  \n",
       "8554  2011-12-09 12:50:00       4.15     12680.0  \n",
       "8555  2011-12-09 12:50:00       4.15     12680.0  \n",
       "8556  2011-12-09 12:50:00       4.95     12680.0  \n",
       "\n",
       "[8108 rows x 7 columns]>"
      ]
     },
     "execution_count": 13,
     "metadata": {},
     "output_type": "execute_result"
    }
   ],
   "source": [
    "df.describe"
   ]
  },
  {
   "cell_type": "markdown",
   "metadata": {},
   "source": [
    "After the cleanup, we need to consolidate the items into 1 transaction per row with each product 1 hot encoded. For the sake of keeping the data set small, we are only looking at sales for France. However, in additional code below, we will compare these results to sales from Germany. Further country comparisons would be interesting to investigate.\n",
    "\n",
    "Actions:\n",
    "1. filter the rows ``Country`='France'`\n",
    "2. group by `['InvoiceNo', 'Description']` computing a sum on `['Quantity']`\n",
    "3. use the `unstack` function to move the items from rows to columns\n",
    "4. reset the index\n",
    "5. fill the missing with zero (`fillna(0)`)\n",
    "6. store the result in the new dataframe `basket` and inspect it"
   ]
  },
  {
   "cell_type": "code",
   "execution_count": 14,
   "metadata": {
    "scrolled": true
   },
   "outputs": [
    {
     "data": {
      "text/html": [
       "<div>\n",
       "<style scoped>\n",
       "    .dataframe tbody tr th:only-of-type {\n",
       "        vertical-align: middle;\n",
       "    }\n",
       "\n",
       "    .dataframe tbody tr th {\n",
       "        vertical-align: top;\n",
       "    }\n",
       "\n",
       "    .dataframe thead th {\n",
       "        text-align: right;\n",
       "    }\n",
       "</style>\n",
       "<table border=\"1\" class=\"dataframe\">\n",
       "  <thead>\n",
       "    <tr style=\"text-align: right;\">\n",
       "      <th>Description</th>\n",
       "      <th>10 COLOUR SPACEBOY PEN</th>\n",
       "      <th>12 COLOURED PARTY BALLOONS</th>\n",
       "      <th>12 EGG HOUSE PAINTED WOOD</th>\n",
       "      <th>12 MESSAGE CARDS WITH ENVELOPES</th>\n",
       "      <th>12 PENCIL SMALL TUBE WOODLAND</th>\n",
       "      <th>12 PENCILS SMALL TUBE RED RETROSPOT</th>\n",
       "      <th>12 PENCILS SMALL TUBE SKULL</th>\n",
       "      <th>12 PENCILS TALL TUBE POSY</th>\n",
       "      <th>12 PENCILS TALL TUBE RED RETROSPOT</th>\n",
       "      <th>12 PENCILS TALL TUBE WOODLAND</th>\n",
       "      <th>...</th>\n",
       "      <th>WRAP VINTAGE PETALS  DESIGN</th>\n",
       "      <th>YELLOW COAT RACK PARIS FASHION</th>\n",
       "      <th>YELLOW GIANT GARDEN THERMOMETER</th>\n",
       "      <th>YELLOW SHARK HELICOPTER</th>\n",
       "      <th>ZINC  STAR T-LIGHT HOLDER</th>\n",
       "      <th>ZINC FOLKART SLEIGH BELLS</th>\n",
       "      <th>ZINC HERB GARDEN CONTAINER</th>\n",
       "      <th>ZINC METAL HEART DECORATION</th>\n",
       "      <th>ZINC T-LIGHT HOLDER STAR LARGE</th>\n",
       "      <th>ZINC T-LIGHT HOLDER STARS SMALL</th>\n",
       "    </tr>\n",
       "    <tr>\n",
       "      <th>InvoiceNo</th>\n",
       "      <th></th>\n",
       "      <th></th>\n",
       "      <th></th>\n",
       "      <th></th>\n",
       "      <th></th>\n",
       "      <th></th>\n",
       "      <th></th>\n",
       "      <th></th>\n",
       "      <th></th>\n",
       "      <th></th>\n",
       "      <th></th>\n",
       "      <th></th>\n",
       "      <th></th>\n",
       "      <th></th>\n",
       "      <th></th>\n",
       "      <th></th>\n",
       "      <th></th>\n",
       "      <th></th>\n",
       "      <th></th>\n",
       "      <th></th>\n",
       "      <th></th>\n",
       "    </tr>\n",
       "  </thead>\n",
       "  <tbody>\n",
       "    <tr>\n",
       "      <th>536370</th>\n",
       "      <td>0.0</td>\n",
       "      <td>0.0</td>\n",
       "      <td>0.0</td>\n",
       "      <td>0.0</td>\n",
       "      <td>0.0</td>\n",
       "      <td>0.0</td>\n",
       "      <td>0.0</td>\n",
       "      <td>0.0</td>\n",
       "      <td>0.0</td>\n",
       "      <td>0.0</td>\n",
       "      <td>...</td>\n",
       "      <td>0.0</td>\n",
       "      <td>0.0</td>\n",
       "      <td>0.0</td>\n",
       "      <td>0.0</td>\n",
       "      <td>0.0</td>\n",
       "      <td>0.0</td>\n",
       "      <td>0.0</td>\n",
       "      <td>0.0</td>\n",
       "      <td>0.0</td>\n",
       "      <td>0.0</td>\n",
       "    </tr>\n",
       "    <tr>\n",
       "      <th>536852</th>\n",
       "      <td>0.0</td>\n",
       "      <td>0.0</td>\n",
       "      <td>0.0</td>\n",
       "      <td>0.0</td>\n",
       "      <td>0.0</td>\n",
       "      <td>0.0</td>\n",
       "      <td>0.0</td>\n",
       "      <td>0.0</td>\n",
       "      <td>0.0</td>\n",
       "      <td>0.0</td>\n",
       "      <td>...</td>\n",
       "      <td>0.0</td>\n",
       "      <td>0.0</td>\n",
       "      <td>0.0</td>\n",
       "      <td>0.0</td>\n",
       "      <td>0.0</td>\n",
       "      <td>0.0</td>\n",
       "      <td>0.0</td>\n",
       "      <td>0.0</td>\n",
       "      <td>0.0</td>\n",
       "      <td>0.0</td>\n",
       "    </tr>\n",
       "    <tr>\n",
       "      <th>536974</th>\n",
       "      <td>0.0</td>\n",
       "      <td>0.0</td>\n",
       "      <td>0.0</td>\n",
       "      <td>0.0</td>\n",
       "      <td>0.0</td>\n",
       "      <td>0.0</td>\n",
       "      <td>0.0</td>\n",
       "      <td>0.0</td>\n",
       "      <td>0.0</td>\n",
       "      <td>0.0</td>\n",
       "      <td>...</td>\n",
       "      <td>0.0</td>\n",
       "      <td>0.0</td>\n",
       "      <td>0.0</td>\n",
       "      <td>0.0</td>\n",
       "      <td>0.0</td>\n",
       "      <td>0.0</td>\n",
       "      <td>0.0</td>\n",
       "      <td>0.0</td>\n",
       "      <td>0.0</td>\n",
       "      <td>0.0</td>\n",
       "    </tr>\n",
       "    <tr>\n",
       "      <th>537065</th>\n",
       "      <td>0.0</td>\n",
       "      <td>0.0</td>\n",
       "      <td>0.0</td>\n",
       "      <td>0.0</td>\n",
       "      <td>0.0</td>\n",
       "      <td>0.0</td>\n",
       "      <td>0.0</td>\n",
       "      <td>0.0</td>\n",
       "      <td>0.0</td>\n",
       "      <td>0.0</td>\n",
       "      <td>...</td>\n",
       "      <td>0.0</td>\n",
       "      <td>0.0</td>\n",
       "      <td>0.0</td>\n",
       "      <td>0.0</td>\n",
       "      <td>0.0</td>\n",
       "      <td>0.0</td>\n",
       "      <td>0.0</td>\n",
       "      <td>0.0</td>\n",
       "      <td>0.0</td>\n",
       "      <td>0.0</td>\n",
       "    </tr>\n",
       "    <tr>\n",
       "      <th>537463</th>\n",
       "      <td>0.0</td>\n",
       "      <td>0.0</td>\n",
       "      <td>0.0</td>\n",
       "      <td>0.0</td>\n",
       "      <td>0.0</td>\n",
       "      <td>0.0</td>\n",
       "      <td>0.0</td>\n",
       "      <td>0.0</td>\n",
       "      <td>0.0</td>\n",
       "      <td>0.0</td>\n",
       "      <td>...</td>\n",
       "      <td>0.0</td>\n",
       "      <td>0.0</td>\n",
       "      <td>0.0</td>\n",
       "      <td>0.0</td>\n",
       "      <td>0.0</td>\n",
       "      <td>0.0</td>\n",
       "      <td>0.0</td>\n",
       "      <td>0.0</td>\n",
       "      <td>0.0</td>\n",
       "      <td>0.0</td>\n",
       "    </tr>\n",
       "    <tr>\n",
       "      <th>...</th>\n",
       "      <td>...</td>\n",
       "      <td>...</td>\n",
       "      <td>...</td>\n",
       "      <td>...</td>\n",
       "      <td>...</td>\n",
       "      <td>...</td>\n",
       "      <td>...</td>\n",
       "      <td>...</td>\n",
       "      <td>...</td>\n",
       "      <td>...</td>\n",
       "      <td>...</td>\n",
       "      <td>...</td>\n",
       "      <td>...</td>\n",
       "      <td>...</td>\n",
       "      <td>...</td>\n",
       "      <td>...</td>\n",
       "      <td>...</td>\n",
       "      <td>...</td>\n",
       "      <td>...</td>\n",
       "      <td>...</td>\n",
       "      <td>...</td>\n",
       "    </tr>\n",
       "    <tr>\n",
       "      <th>580986</th>\n",
       "      <td>0.0</td>\n",
       "      <td>0.0</td>\n",
       "      <td>0.0</td>\n",
       "      <td>0.0</td>\n",
       "      <td>0.0</td>\n",
       "      <td>0.0</td>\n",
       "      <td>0.0</td>\n",
       "      <td>0.0</td>\n",
       "      <td>0.0</td>\n",
       "      <td>0.0</td>\n",
       "      <td>...</td>\n",
       "      <td>0.0</td>\n",
       "      <td>0.0</td>\n",
       "      <td>0.0</td>\n",
       "      <td>0.0</td>\n",
       "      <td>0.0</td>\n",
       "      <td>0.0</td>\n",
       "      <td>0.0</td>\n",
       "      <td>0.0</td>\n",
       "      <td>0.0</td>\n",
       "      <td>0.0</td>\n",
       "    </tr>\n",
       "    <tr>\n",
       "      <th>581001</th>\n",
       "      <td>0.0</td>\n",
       "      <td>0.0</td>\n",
       "      <td>0.0</td>\n",
       "      <td>0.0</td>\n",
       "      <td>0.0</td>\n",
       "      <td>0.0</td>\n",
       "      <td>0.0</td>\n",
       "      <td>0.0</td>\n",
       "      <td>0.0</td>\n",
       "      <td>0.0</td>\n",
       "      <td>...</td>\n",
       "      <td>0.0</td>\n",
       "      <td>0.0</td>\n",
       "      <td>0.0</td>\n",
       "      <td>0.0</td>\n",
       "      <td>0.0</td>\n",
       "      <td>0.0</td>\n",
       "      <td>0.0</td>\n",
       "      <td>0.0</td>\n",
       "      <td>0.0</td>\n",
       "      <td>0.0</td>\n",
       "    </tr>\n",
       "    <tr>\n",
       "      <th>581171</th>\n",
       "      <td>0.0</td>\n",
       "      <td>0.0</td>\n",
       "      <td>0.0</td>\n",
       "      <td>0.0</td>\n",
       "      <td>0.0</td>\n",
       "      <td>0.0</td>\n",
       "      <td>0.0</td>\n",
       "      <td>0.0</td>\n",
       "      <td>0.0</td>\n",
       "      <td>0.0</td>\n",
       "      <td>...</td>\n",
       "      <td>0.0</td>\n",
       "      <td>0.0</td>\n",
       "      <td>0.0</td>\n",
       "      <td>0.0</td>\n",
       "      <td>0.0</td>\n",
       "      <td>0.0</td>\n",
       "      <td>0.0</td>\n",
       "      <td>0.0</td>\n",
       "      <td>0.0</td>\n",
       "      <td>0.0</td>\n",
       "    </tr>\n",
       "    <tr>\n",
       "      <th>581279</th>\n",
       "      <td>0.0</td>\n",
       "      <td>0.0</td>\n",
       "      <td>0.0</td>\n",
       "      <td>0.0</td>\n",
       "      <td>0.0</td>\n",
       "      <td>0.0</td>\n",
       "      <td>0.0</td>\n",
       "      <td>0.0</td>\n",
       "      <td>0.0</td>\n",
       "      <td>0.0</td>\n",
       "      <td>...</td>\n",
       "      <td>0.0</td>\n",
       "      <td>0.0</td>\n",
       "      <td>0.0</td>\n",
       "      <td>0.0</td>\n",
       "      <td>0.0</td>\n",
       "      <td>0.0</td>\n",
       "      <td>0.0</td>\n",
       "      <td>0.0</td>\n",
       "      <td>0.0</td>\n",
       "      <td>0.0</td>\n",
       "    </tr>\n",
       "    <tr>\n",
       "      <th>581587</th>\n",
       "      <td>0.0</td>\n",
       "      <td>0.0</td>\n",
       "      <td>0.0</td>\n",
       "      <td>0.0</td>\n",
       "      <td>0.0</td>\n",
       "      <td>0.0</td>\n",
       "      <td>0.0</td>\n",
       "      <td>0.0</td>\n",
       "      <td>0.0</td>\n",
       "      <td>0.0</td>\n",
       "      <td>...</td>\n",
       "      <td>0.0</td>\n",
       "      <td>0.0</td>\n",
       "      <td>0.0</td>\n",
       "      <td>0.0</td>\n",
       "      <td>0.0</td>\n",
       "      <td>0.0</td>\n",
       "      <td>0.0</td>\n",
       "      <td>0.0</td>\n",
       "      <td>0.0</td>\n",
       "      <td>0.0</td>\n",
       "    </tr>\n",
       "  </tbody>\n",
       "</table>\n",
       "<p>387 rows × 1562 columns</p>\n",
       "</div>"
      ],
      "text/plain": [
       "Description  10 COLOUR SPACEBOY PEN  12 COLOURED PARTY BALLOONS  \\\n",
       "InvoiceNo                                                         \n",
       "536370                          0.0                         0.0   \n",
       "536852                          0.0                         0.0   \n",
       "536974                          0.0                         0.0   \n",
       "537065                          0.0                         0.0   \n",
       "537463                          0.0                         0.0   \n",
       "...                             ...                         ...   \n",
       "580986                          0.0                         0.0   \n",
       "581001                          0.0                         0.0   \n",
       "581171                          0.0                         0.0   \n",
       "581279                          0.0                         0.0   \n",
       "581587                          0.0                         0.0   \n",
       "\n",
       "Description  12 EGG HOUSE PAINTED WOOD  12 MESSAGE CARDS WITH ENVELOPES  \\\n",
       "InvoiceNo                                                                 \n",
       "536370                             0.0                              0.0   \n",
       "536852                             0.0                              0.0   \n",
       "536974                             0.0                              0.0   \n",
       "537065                             0.0                              0.0   \n",
       "537463                             0.0                              0.0   \n",
       "...                                ...                              ...   \n",
       "580986                             0.0                              0.0   \n",
       "581001                             0.0                              0.0   \n",
       "581171                             0.0                              0.0   \n",
       "581279                             0.0                              0.0   \n",
       "581587                             0.0                              0.0   \n",
       "\n",
       "Description  12 PENCIL SMALL TUBE WOODLAND  \\\n",
       "InvoiceNo                                    \n",
       "536370                                 0.0   \n",
       "536852                                 0.0   \n",
       "536974                                 0.0   \n",
       "537065                                 0.0   \n",
       "537463                                 0.0   \n",
       "...                                    ...   \n",
       "580986                                 0.0   \n",
       "581001                                 0.0   \n",
       "581171                                 0.0   \n",
       "581279                                 0.0   \n",
       "581587                                 0.0   \n",
       "\n",
       "Description  12 PENCILS SMALL TUBE RED RETROSPOT  12 PENCILS SMALL TUBE SKULL  \\\n",
       "InvoiceNo                                                                       \n",
       "536370                                       0.0                          0.0   \n",
       "536852                                       0.0                          0.0   \n",
       "536974                                       0.0                          0.0   \n",
       "537065                                       0.0                          0.0   \n",
       "537463                                       0.0                          0.0   \n",
       "...                                          ...                          ...   \n",
       "580986                                       0.0                          0.0   \n",
       "581001                                       0.0                          0.0   \n",
       "581171                                       0.0                          0.0   \n",
       "581279                                       0.0                          0.0   \n",
       "581587                                       0.0                          0.0   \n",
       "\n",
       "Description  12 PENCILS TALL TUBE POSY  12 PENCILS TALL TUBE RED RETROSPOT  \\\n",
       "InvoiceNo                                                                    \n",
       "536370                             0.0                                 0.0   \n",
       "536852                             0.0                                 0.0   \n",
       "536974                             0.0                                 0.0   \n",
       "537065                             0.0                                 0.0   \n",
       "537463                             0.0                                 0.0   \n",
       "...                                ...                                 ...   \n",
       "580986                             0.0                                 0.0   \n",
       "581001                             0.0                                 0.0   \n",
       "581171                             0.0                                 0.0   \n",
       "581279                             0.0                                 0.0   \n",
       "581587                             0.0                                 0.0   \n",
       "\n",
       "Description  12 PENCILS TALL TUBE WOODLAND  ...  WRAP VINTAGE PETALS  DESIGN  \\\n",
       "InvoiceNo                                   ...                                \n",
       "536370                                 0.0  ...                          0.0   \n",
       "536852                                 0.0  ...                          0.0   \n",
       "536974                                 0.0  ...                          0.0   \n",
       "537065                                 0.0  ...                          0.0   \n",
       "537463                                 0.0  ...                          0.0   \n",
       "...                                    ...  ...                          ...   \n",
       "580986                                 0.0  ...                          0.0   \n",
       "581001                                 0.0  ...                          0.0   \n",
       "581171                                 0.0  ...                          0.0   \n",
       "581279                                 0.0  ...                          0.0   \n",
       "581587                                 0.0  ...                          0.0   \n",
       "\n",
       "Description  YELLOW COAT RACK PARIS FASHION  YELLOW GIANT GARDEN THERMOMETER  \\\n",
       "InvoiceNo                                                                      \n",
       "536370                                  0.0                              0.0   \n",
       "536852                                  0.0                              0.0   \n",
       "536974                                  0.0                              0.0   \n",
       "537065                                  0.0                              0.0   \n",
       "537463                                  0.0                              0.0   \n",
       "...                                     ...                              ...   \n",
       "580986                                  0.0                              0.0   \n",
       "581001                                  0.0                              0.0   \n",
       "581171                                  0.0                              0.0   \n",
       "581279                                  0.0                              0.0   \n",
       "581587                                  0.0                              0.0   \n",
       "\n",
       "Description  YELLOW SHARK HELICOPTER  ZINC  STAR T-LIGHT HOLDER  \\\n",
       "InvoiceNo                                                         \n",
       "536370                           0.0                        0.0   \n",
       "536852                           0.0                        0.0   \n",
       "536974                           0.0                        0.0   \n",
       "537065                           0.0                        0.0   \n",
       "537463                           0.0                        0.0   \n",
       "...                              ...                        ...   \n",
       "580986                           0.0                        0.0   \n",
       "581001                           0.0                        0.0   \n",
       "581171                           0.0                        0.0   \n",
       "581279                           0.0                        0.0   \n",
       "581587                           0.0                        0.0   \n",
       "\n",
       "Description  ZINC FOLKART SLEIGH BELLS  ZINC HERB GARDEN CONTAINER  \\\n",
       "InvoiceNo                                                            \n",
       "536370                             0.0                         0.0   \n",
       "536852                             0.0                         0.0   \n",
       "536974                             0.0                         0.0   \n",
       "537065                             0.0                         0.0   \n",
       "537463                             0.0                         0.0   \n",
       "...                                ...                         ...   \n",
       "580986                             0.0                         0.0   \n",
       "581001                             0.0                         0.0   \n",
       "581171                             0.0                         0.0   \n",
       "581279                             0.0                         0.0   \n",
       "581587                             0.0                         0.0   \n",
       "\n",
       "Description  ZINC METAL HEART DECORATION  ZINC T-LIGHT HOLDER STAR LARGE  \\\n",
       "InvoiceNo                                                                  \n",
       "536370                               0.0                             0.0   \n",
       "536852                               0.0                             0.0   \n",
       "536974                               0.0                             0.0   \n",
       "537065                               0.0                             0.0   \n",
       "537463                               0.0                             0.0   \n",
       "...                                  ...                             ...   \n",
       "580986                               0.0                             0.0   \n",
       "581001                               0.0                             0.0   \n",
       "581171                               0.0                             0.0   \n",
       "581279                               0.0                             0.0   \n",
       "581587                               0.0                             0.0   \n",
       "\n",
       "Description  ZINC T-LIGHT HOLDER STARS SMALL  \n",
       "InvoiceNo                                     \n",
       "536370                                   0.0  \n",
       "536852                                   0.0  \n",
       "536974                                   0.0  \n",
       "537065                                   0.0  \n",
       "537463                                   0.0  \n",
       "...                                      ...  \n",
       "580986                                   0.0  \n",
       "581001                                   0.0  \n",
       "581171                                   0.0  \n",
       "581279                                   0.0  \n",
       "581587                                   0.0  \n",
       "\n",
       "[387 rows x 1562 columns]"
      ]
     },
     "execution_count": 14,
     "metadata": {},
     "output_type": "execute_result"
    }
   ],
   "source": [
    "basket = (\n",
    "    df.groupby([\"InvoiceNo\", \"Description\"])[\"Quantity\"]\n",
    "    .sum()\n",
    "    .unstack()\n",
    "    .reset_index()\n",
    "    .fillna(0)\n",
    "    .set_index(\"InvoiceNo\")\n",
    ")\n",
    "\n",
    "\n",
    "basket"
   ]
  },
  {
   "cell_type": "markdown",
   "metadata": {},
   "source": [
    "There are a lot of zeros in the data but we also need to make sure any positive values are converted to a 1 and anything less than 0 is set to 0.\n",
    "\n",
    "You can define a function `encode_units` which takes a number and returns 0 if the number is 0 or less, 1 if the number is 1 or more. The function can be applied to `basket` with the Pandas' function `applymap`, the result is stored in the variable `basket_sets`\n",
    "\n",
    "This step will complete the one hot encoding of the data."
   ]
  },
  {
   "cell_type": "code",
   "execution_count": 15,
   "metadata": {},
   "outputs": [
    {
     "name": "stderr",
     "output_type": "stream",
     "text": [
      "C:\\Users\\evang.HOMEEVANGELISTI\\AppData\\Local\\Temp\\ipykernel_15540\\82366512.py:2: FutureWarning: DataFrame.applymap has been deprecated. Use DataFrame.map instead.\n",
      "  basket_sets = basket.applymap(encode_units)\n"
     ]
    },
    {
     "data": {
      "text/plain": [
       "'\\ndef encode_units(num):\\n    res = num\\n    if res <=0:\\n        return 0\\n    if res >=1:\\n        return 1\\n    return res \\n'"
      ]
     },
     "execution_count": 15,
     "metadata": {},
     "output_type": "execute_result"
    }
   ],
   "source": [
    "encode_units = lambda x: 0 if x <= 0 else 1\n",
    "basket_sets = basket.applymap(encode_units)\n",
    "\n",
    "# Noi abbiamo fatto così\n",
    "\"\"\"\n",
    "def encode_units(num):\n",
    "    res = num\n",
    "    if res <=0:\n",
    "        return 0\n",
    "    if res >=1:\n",
    "        return 1\n",
    "    return res \n",
    "\"\"\""
   ]
  },
  {
   "cell_type": "markdown",
   "metadata": {},
   "source": [
    "Now that the data is structured properly, we can generate frequent item sets that have a support of at least 7% (this number was chosen so that we can get enough useful examples):\n",
    "\n",
    "- generate the `frequent_itemsets` with `apriori`, setting `min_support=0.07` and `use_colnames=True`\n",
    "- generate the `rules` with `association_rules` using `metric=\"lift\"` and `min_threshold=1`\n",
    "- show the rules"
   ]
  },
  {
   "cell_type": "code",
   "execution_count": 16,
   "metadata": {},
   "outputs": [
    {
     "name": "stderr",
     "output_type": "stream",
     "text": [
      "c:\\Python310\\lib\\site-packages\\mlxtend\\frequent_patterns\\fpcommon.py:110: DeprecationWarning: DataFrames with non-bool types result in worse computationalperformance and their support might be discontinued in the future.Please use a DataFrame with bool type\n",
      "  warnings.warn(\n"
     ]
    },
    {
     "data": {
      "text/plain": [
       "(26, 10)"
      ]
     },
     "execution_count": 16,
     "metadata": {},
     "output_type": "execute_result"
    }
   ],
   "source": [
    "frequent_itemsets = apriori(basket_sets, min_support=0.07, use_colnames=True)\n",
    "\n",
    "rules = association_rules(frequent_itemsets, metric=\"lift\", min_threshold=1)\n",
    "rules.shape"
   ]
  },
  {
   "cell_type": "markdown",
   "metadata": {},
   "source": [
    "In order to plot the rules, it is better to sort them according to some metrics.\n",
    "We will sort on descending confidence and support and plot `'confidence'` and `'support'`."
   ]
  },
  {
   "cell_type": "code",
   "execution_count": 17,
   "metadata": {},
   "outputs": [
    {
     "data": {
      "text/plain": [
       "<Axes: title={'center': 'Association Rules'}>"
      ]
     },
     "execution_count": 17,
     "metadata": {},
     "output_type": "execute_result"
    },
    {
     "data": {
      "image/png": "[encoded data removed]",
      "text/plain": [
       "<Figure size 640x480 with 1 Axes>"
      ]
     },
     "metadata": {},
     "output_type": "display_data"
    }
   ],
   "source": [
    "sorted_rules = rules.sort_values(\n",
    "    by=[\"confidence\", \"support\"], ascending=False\n",
    ").reset_index(drop=True)\n",
    "\n",
    "\n",
    "sorted_rules[[\"confidence\", \"support\"]].plot(title=\"Association Rules\")\n",
    "\n",
    "\n",
    "\n",
    "# plt.plot(np.arange(sorted_rules.shape[0]),sorted_rules.confidence)\n",
    "\n",
    "\n",
    "# plt.plot(np.arange(sorted_rules.shape[0]),sorted_rules.support )"
   ]
  },
  {
   "cell_type": "markdown",
   "metadata": {},
   "source": [
    "You find below a three dimensional plot, where the dot size is proportional to the lift, obtained using `plot.scatter`."
   ]
  },
  {
   "cell_type": "code",
   "execution_count": 18,
   "metadata": {},
   "outputs": [
    {
     "data": {
      "image/png": "[encoded data removed]",
      "text/plain": [
       "<Figure size 640x480 with 1 Axes>"
      ]
     },
     "metadata": {},
     "output_type": "display_data"
    }
   ],
   "source": [
    "# 1.8 is chosen empirically to obtain the best graphical effect\n",
    "s = [1.8**n for n in rules.lift]\n",
    "fig = rules.plot.scatter(\n",
    "    x=\"support\",\n",
    "    y=\"confidence\",\n",
    "    title=\"Association Rules (dot proportional to Lift)\",\n",
    "    s=s,\n",
    ")\n",
    "\n",
    "# extra per aggiungere le label sul grafico\n",
    "# for i in range(len(rules)):\n",
    "#    fig.annotate(text = i, xy = (sorted_rules['support'][i], sorted_rules['confidence'][i]))\n",
    "\n",
    "\n",
    "# Noi abbiamo fatto così ed esce uguale\n",
    "# plt.scatter(rules_sort.support,rules_sort.confidence,s=rules_sort.lift**2)"
   ]
  },
  {
   "cell_type": "code",
   "execution_count": 19,
   "metadata": {},
   "outputs": [
    {
     "name": "stdout",
     "output_type": "stream",
     "text": [
      "Requirement already satisfied: networkx in c:\\python310\\lib\\site-packages (3.2.1)\n",
      "Note: you may need to restart the kernel to use updated packages.\n"
     ]
    },
    {
     "name": "stderr",
     "output_type": "stream",
     "text": [
      "WARNING: Ignoring invalid distribution -ip (c:\\python310\\lib\\site-packages)\n",
      "WARNING: Ignoring invalid distribution -ip (c:\\python310\\lib\\site-packages)\n"
     ]
    }
   ],
   "source": [
    "%pip install networkx"
   ]
  },
  {
   "cell_type": "markdown",
   "metadata": {},
   "source": [
    "Finally, we draw a plot of a subset of the rules using the function `draw_graph`, provided in this package."
   ]
  },
  {
   "cell_type": "code",
   "execution_count": 20,
   "metadata": {},
   "outputs": [
    {
     "ename": "ModuleNotFoundError",
     "evalue": "No module named 'draw_rules_graph'",
     "output_type": "error",
     "traceback": [
      "\u001b[1;31m---------------------------------------------------------------------------\u001b[0m",
      "\u001b[1;31mModuleNotFoundError\u001b[0m                       Traceback (most recent call last)",
      "Cell \u001b[1;32mIn[20], line 1\u001b[0m\n\u001b[1;32m----> 1\u001b[0m \u001b[38;5;28;01mfrom\u001b[39;00m \u001b[38;5;21;01mdraw_rules_graph\u001b[39;00m \u001b[38;5;28;01mimport\u001b[39;00m draw_graph\n\u001b[0;32m      3\u001b[0m help(draw_graph)\n",
      "\u001b[1;31mModuleNotFoundError\u001b[0m: No module named 'draw_rules_graph'"
     ]
    }
   ],
   "source": [
    "from draw_rules_graph import draw_graph\n",
    "\n",
    "help(draw_graph)"
   ]
  },
  {
   "cell_type": "code",
   "execution_count": null,
   "metadata": {
    "scrolled": true
   },
   "outputs": [
    {
     "data": {
      "image/png": "[encoded data removed]",
      "text/plain": [
       "<Figure size 720x720 with 1 Axes>"
      ]
     },
     "metadata": {},
     "output_type": "display_data"
    }
   ],
   "source": [
    "import matplotlib.pyplot as plt\n",
    "%matplotlib inline\n",
    "\n",
    "plt.figure(figsize=(10,10))\n",
    "draw_graph(sorted_rules, 10)"
   ]
  },
  {
   "attachments": {},
   "cell_type": "markdown",
   "metadata": {},
   "source": [
    "### EXTRA da file di testo a DATAFRAME \n",
    "da file a transazioni"
   ]
  },
  {
   "cell_type": "code",
   "execution_count": null,
   "metadata": {},
   "outputs": [
    {
     "name": "stdout",
     "output_type": "stream",
     "text": [
      "First transaction:\t['InvoiceNo,StockCode,Description,Quantity,InvoiceDate,UnitPrice,CustomerID,Country']\n",
      "\n",
      "Second transaction:\t['536365,85123A,WHITE HANGING HEART T-LIGHT HOLDER,6,2010-12-01 08:26:00,2.55,17850.0,United Kingdom']\n"
     ]
    }
   ],
   "source": [
    "separator = \";\"\n",
    "\n",
    "# Open the file\n",
    "file = open(url, mode=\"r\")\n",
    "\n",
    "# The transactions are separated by a ';'\n",
    "\n",
    "\n",
    "# We must also strip the '\\n' at the end of the transaction\n",
    "\n",
    "\n",
    "transactions = [line.strip(\"\\n\").split(separator) for line in file.readlines()]\n",
    "\n",
    "\n",
    "\n",
    "print(\n",
    "    f\"First transaction:\\t{transactions[0]}\\n\\nSecond transaction:\\t{transactions[1]}\"\n",
    ")"
   ]
  },
  {
   "attachments": {},
   "cell_type": "markdown",
   "metadata": {},
   "source": [
    "Da transazioni a Dataframe  \n",
    "TRANSACTION ENCODER"
   ]
  },
  {
   "cell_type": "code",
   "execution_count": null,
   "metadata": {},
   "outputs": [
    {
     "ename": "MemoryError",
     "evalue": "Unable to allocate 271. GiB for an array with shape (541910, 536642) and data type bool",
     "output_type": "error",
     "traceback": [
      "\u001b[1;31m---------------------------------------------------------------------------\u001b[0m",
      "\u001b[1;31mMemoryError\u001b[0m                               Traceback (most recent call last)",
      "\u001b[1;32mc:\\Users\\hhitm\\Desktop\\DATA MINING\\LAB DATA MINING\\SOLUTIONS ML Lab 2022\\Solution Lab 05 - Association Rules\\ml_lab_05_association_rules.ipynb Cell 37\u001b[0m in \u001b[0;36m<module>\u001b[1;34m\u001b[0m\n\u001b[0;32m      <a href='vscode-notebook-cell:/c%3A/Users/hhitm/Desktop/DATA%20MINING/LAB%20DATA%20MINING/SOLUTIONS%20ML%20Lab%202022/Solution%20Lab%2005%20-%20Association%20Rules/ml_lab_05_association_rules.ipynb#X53sZmlsZQ%3D%3D?line=2'>3</a>\u001b[0m \u001b[39m# Encode the transactions\u001b[39;00m\n\u001b[0;32m      <a href='vscode-notebook-cell:/c%3A/Users/hhitm/Desktop/DATA%20MINING/LAB%20DATA%20MINING/SOLUTIONS%20ML%20Lab%202022/Solution%20Lab%2005%20-%20Association%20Rules/ml_lab_05_association_rules.ipynb#X53sZmlsZQ%3D%3D?line=3'>4</a>\u001b[0m encoder \u001b[39m=\u001b[39m TransactionEncoder()\n\u001b[1;32m----> <a href='vscode-notebook-cell:/c%3A/Users/hhitm/Desktop/DATA%20MINING/LAB%20DATA%20MINING/SOLUTIONS%20ML%20Lab%202022/Solution%20Lab%2005%20-%20Association%20Rules/ml_lab_05_association_rules.ipynb#X53sZmlsZQ%3D%3D?line=4'>5</a>\u001b[0m encoded_transactions \u001b[39m=\u001b[39m encoder\u001b[39m.\u001b[39;49mfit_transform(transactions)\n\u001b[0;32m      <a href='vscode-notebook-cell:/c%3A/Users/hhitm/Desktop/DATA%20MINING/LAB%20DATA%20MINING/SOLUTIONS%20ML%20Lab%202022/Solution%20Lab%2005%20-%20Association%20Rules/ml_lab_05_association_rules.ipynb#X53sZmlsZQ%3D%3D?line=6'>7</a>\u001b[0m \u001b[39m# Put the data in a dataframe\u001b[39;00m\n\u001b[0;32m      <a href='vscode-notebook-cell:/c%3A/Users/hhitm/Desktop/DATA%20MINING/LAB%20DATA%20MINING/SOLUTIONS%20ML%20Lab%202022/Solution%20Lab%2005%20-%20Association%20Rules/ml_lab_05_association_rules.ipynb#X53sZmlsZQ%3D%3D?line=7'>8</a>\u001b[0m df \u001b[39m=\u001b[39m pd\u001b[39m.\u001b[39mDataFrame(encoded_transactions\u001b[39m.\u001b[39mastype(\u001b[39mint\u001b[39m), columns \u001b[39m=\u001b[39m encoder\u001b[39m.\u001b[39mcolumns_)\n",
      "File \u001b[1;32mc:\\Users\\hhitm\\AppData\\Local\\Programs\\Python\\Python310\\lib\\site-packages\\mlxtend\\preprocessing\\transactionencoder.py:183\u001b[0m, in \u001b[0;36mTransactionEncoder.fit_transform\u001b[1;34m(self, X, sparse)\u001b[0m\n\u001b[0;32m    181\u001b[0m \u001b[39mdef\u001b[39;00m \u001b[39mfit_transform\u001b[39m(\u001b[39mself\u001b[39m, X, sparse\u001b[39m=\u001b[39m\u001b[39mFalse\u001b[39;00m):\n\u001b[0;32m    182\u001b[0m     \u001b[39m\"\"\"Fit a TransactionEncoder encoder and transform a dataset.\"\"\"\u001b[39;00m\n\u001b[1;32m--> 183\u001b[0m     \u001b[39mreturn\u001b[39;00m \u001b[39mself\u001b[39;49m\u001b[39m.\u001b[39;49mfit(X)\u001b[39m.\u001b[39;49mtransform(X, sparse\u001b[39m=\u001b[39;49msparse)\n",
      "File \u001b[1;32mc:\\Users\\hhitm\\AppData\\Local\\Programs\\Python\\Python310\\lib\\site-packages\\mlxtend\\preprocessing\\transactionencoder.py:125\u001b[0m, in \u001b[0;36mTransactionEncoder.transform\u001b[1;34m(self, X, sparse)\u001b[0m\n\u001b[0;32m    123\u001b[0m     array \u001b[39m=\u001b[39m csr_matrix((non_sparse_values, indices, indptr), dtype\u001b[39m=\u001b[39m\u001b[39mbool\u001b[39m)\n\u001b[0;32m    124\u001b[0m \u001b[39melse\u001b[39;00m:\n\u001b[1;32m--> 125\u001b[0m     array \u001b[39m=\u001b[39m np\u001b[39m.\u001b[39;49mzeros((\u001b[39mlen\u001b[39;49m(X), \u001b[39mlen\u001b[39;49m(\u001b[39mself\u001b[39;49m\u001b[39m.\u001b[39;49mcolumns_)), dtype\u001b[39m=\u001b[39;49m\u001b[39mbool\u001b[39;49m)\n\u001b[0;32m    126\u001b[0m     \u001b[39mfor\u001b[39;00m row_idx, transaction \u001b[39min\u001b[39;00m \u001b[39menumerate\u001b[39m(X):\n\u001b[0;32m    127\u001b[0m         \u001b[39mfor\u001b[39;00m item \u001b[39min\u001b[39;00m transaction:\n",
      "\u001b[1;31mMemoryError\u001b[0m: Unable to allocate 271. GiB for an array with shape (541910, 536642) and data type bool"
     ]
    }
   ],
   "source": [
    "from mlxtend.preprocessing import TransactionEncoder\n",
    "\n",
    "# Encode the transactions\n",
    "encoder = TransactionEncoder()\n",
    "encoded_transactions = encoder.fit_transform(transactions)\n",
    "\n",
    "# Put the data in a dataframe\n",
    "df = pd.DataFrame(encoded_transactions.astype(int), columns=encoder.columns_)\n",
    "df.head()"
   ]
  },
  {
   "attachments": {},
   "cell_type": "markdown",
   "metadata": {},
   "source": [
    "### EXTRA Algoritmo apriori con parametri minimi\n",
    "Find a value of min_support such that the apriori algorithm generates at least 8 frequent itemsets with at least 2 items. Output the result with the message below (5 points)\n"
   ]
  },
  {
   "cell_type": "code",
   "execution_count": null,
   "metadata": {},
   "outputs": [],
   "source": [
    "# Requirements\n",
    "import numpy as np\n",
    "import warnings\n",
    "\n",
    "warnings.filterwarnings(\"ignore\")  # uncomment this line to suppress warnings\n",
    "\n",
    "min_itemsets = 8\n",
    "min_item_in_itemset = 2\n",
    "\n",
    "# \"Reasonable\" range\n",
    "support_range = np.arange(0.1, 0.01, -0.01)\n",
    "\n",
    "min_support = 0\n",
    "\n",
    "for s_value in support_range:\n",
    "    print(f\"Trying support value {s_value:.2f}\")\n",
    "\n",
    "    frequent_itemsets = apriori(df, min_support=s_value, use_colnames=True)\n",
    "    # use_colnames = True obbligatorio, altrimenti prende gli indici e non i nomi degli item\n",
    "\n",
    "    # Calculate the number of itemsets that contain at least `min_item_in_itemset` items\n",
    "    itemsets_above_threshold = sum(\n",
    "        [len(itemset) >= min_item_in_itemset for itemset in frequent_itemsets.itemsets]\n",
    "    )\n",
    "\n",
    "    if itemsets_above_threshold >= min_itemsets:\n",
    "        min_support = s_value\n",
    "        break\n",
    "\n",
    "if min_support == 0:\n",
    "    print(\"No itemset found! Try again with a bigger range!\")\n",
    "else:\n",
    "    print(\n",
    "        f\"I've selected min_support = {min_support:.2f}, which produced {len(frequent_itemsets)} itemsets, {itemsets_above_threshold} of which had more than {min_item_in_itemset} items\"\n",
    "    )"
   ]
  },
  {
   "attachments": {},
   "cell_type": "markdown",
   "metadata": {},
   "source": [
    "### EXTRA Algoritmo association rules con parametri minimi\n",
    "Find the minimum metric threshold such that at least 10 association rules are extracted from the frequent itemsets found (5 points)\n",
    "_use \"confidence\" as metric and output the line below:_"
   ]
  },
  {
   "cell_type": "code",
   "execution_count": null,
   "metadata": {},
   "outputs": [],
   "source": [
    "# Threshold\n",
    "min_rules = 10\n",
    "\n",
    "# \"Reasonable\" range\n",
    "confidence_range = np.arange(1, 0.01, -0.01)\n",
    "\n",
    "\n",
    "min_confidence = 0\n",
    "\n",
    "for c_value in confidence_range:\n",
    "    print(f\"Trying confidence value {c_value:.2f}\")\n",
    "    rules = association_rules(\n",
    "        frequent_itemsets, metric=\"confidence\", min_threshold=c_value\n",
    "    )\n",
    "\n",
    "    if len(rules) >= min_rules:\n",
    "        min_confidence = c_value\n",
    "        break\n",
    "\n",
    "if min_confidence == 0:\n",
    "    print(\"No rule set met the requirements! Try again with a bigger range!\")\n",
    "else:\n",
    "    print(\n",
    "        f\"I've selected min_confidence = {min_confidence:.2f}, which produced {len(rules)} rules\"\n",
    "    )\n",
    "\n",
    "print(\n",
    "    f'Metric: \"confidence\" - min_metric: {min_confidence:.4f} - Number of rules: {len(rules)}'\n",
    ")"
   ]
  }
 ],
 "metadata": {
  "celltoolbar": "Slideshow",
  "kernelspec": {
   "display_name": "Python 3",
   "language": "python",
   "name": "python3"
  },
  "language_info": {
   "codemirror_mode": {
    "name": "ipython",
    "version": 3
   },
   "file_extension": ".py",
   "mimetype": "text/x-python",
   "name": "python",
   "nbconvert_exporter": "python",
   "pygments_lexer": "ipython3",
   "version": "3.10.0"
  },
  "vscode": {
   "interpreter": {
    "hash": "b1708fff10be9fb692d7fda4b87bbb8793f7d6a3cb1c2c80debaadfcc2f4e575"
   }
  }
 },
 "nbformat": 4,
 "nbformat_minor": 4
}
