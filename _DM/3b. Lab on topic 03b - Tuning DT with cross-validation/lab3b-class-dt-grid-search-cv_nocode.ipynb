{
 "cells": [
  {
   "cell_type": "markdown",
   "metadata": {
    "slideshow": {
     "slide_type": "slide"
    }
   },
   "source": [
    "[From official `scikit-learn` documentation](http://scikit-learn.org/stable/auto_examples/model_selection/plot_grid_search_digits.html)<br>\n",
    "Adapted by Claudio Sartori\n",
    "\n",
    "# Classification with Decision Tree - hyperparameter tuning (__model selection__) with Grid Search and Cross Validation\n",
    "\n",
    "We use here the Decision Tree and the standard `CrossValidation`, then find the best hyperparameter setting through _grid search_\n",
    "\n",
    "\n",
    "### Workflow\n",
    "1. download the data\n",
    "1. data exploration\n",
    "1. drop the useless data (if any)\n",
    "1. separe the predicting attributes X from the class attribute y\n",
    "1. split X and y into training and test\n",
    "    - set a variable `target` with the column name of the target\n",
    "1. single run with default parameters\n",
    "    - initialise a estimator with the DecisionTreeClassifier\n",
    "    - fit the estimator with the training part of X\n",
    "    - show the tree structure\n",
    "        - in particular, observe the maximum depth of the tree, this will be used in choosing the range for the `max_depth` hyperparameter\n",
    "    - predict the y values with the fitted estimator and the train data\n",
    "        - compare the predicted values with the true ones and compute the accuracy on the training set \n",
    "    - predict the y values with the fitted estimator and the test data\n",
    "        - compare the predicted values with the true ones and compute the accuracy on the test set\n",
    "        - this will be our baseline\n",
    "\n",
    "## Model selection\n",
    "\n",
    "- the *train* part will be used for training and _cross-validation_ (i.e. for *development*)\n",
    "- the *test* part will be used for test (i.e. for *evaluation*)\n",
    "- the fraction of test data will be _ts_ (a value of your choice between 0.2 and 0.5)\n",
    "- the function `GridSearchCV` iterates a cross validation experiment to __train__ and __validate__ a model with different combinations of paramater values\n",
    "- for each parameter we set a list of values to test, the `GridSearchCV` function will generate all the combinations\n",
    "- we will make several experiments with the optimisation of different *score function* \n",
    "    - e.g. `accuracy_score`, `precision_score`, `recall_score`, `f1_score`, see this [page](http://scikit-learn.org/stable/modules/classes.html#module-sklearn.metrics) for reference\n",
    "    - the output is a dictionary containing \n",
    "        - the set of parameters which maximize the score \n",
    "        - the test scores\n"
   ]
  },
  {
   "cell_type": "code",
   "execution_count": 51,
   "metadata": {
    "slideshow": {
     "slide_type": "slide"
    }
   },
   "outputs": [],
   "source": [
    "\"\"\"\n",
    "http://scikit-learn.org/stable/auto_examples/model_selection/plot_grid_search_digits.html\n",
    "@author: scikit-learn.org and Claudio Sartori\n",
    "\"\"\"\n",
    "import warnings\n",
    "\n",
    "warnings.filterwarnings(\"ignore\")  # uncomment this line to suppress warnings\n",
    "\n",
    "from sklearn import datasets\n",
    "import pandas as pd\n",
    "import numpy as np\n",
    "import matplotlib.pyplot as plt\n",
    "import seaborn as sns\n",
    "from sklearn import tree\n",
    "from sklearn.model_selection import train_test_split\n",
    "from sklearn.model_selection import GridSearchCV\n",
    "from sklearn.metrics import classification_report, ConfusionMatrixDisplay\n",
    "from sklearn.tree import DecisionTreeClassifier, plot_tree\n",
    "from sklearn import metrics"
   ]
  },
  {
   "cell_type": "markdown",
   "metadata": {
    "slideshow": {
     "slide_type": "slide"
    }
   },
   "source": [
    "### Prepare the environment\n",
    "The `dataset` module contains, among others, a few sample datasets.\n",
    "\n",
    "See this [page](http://scikit-learn.org/stable/datasets/index.html) for reference\n",
    "\n",
    "Prepare the data and the target in X and y. Set `ts`. Set the random state"
   ]
  },
  {
   "cell_type": "code",
   "execution_count": 52,
   "metadata": {},
   "outputs": [],
   "source": [
    "df = pd.read_csv(\"winequality-red38.csv\").dropna()\n",
    "X = df.loc[:, df.columns != \"quality\"]\n",
    "y = df[\"quality\"]"
   ]
  },
  {
   "cell_type": "markdown",
   "metadata": {},
   "source": [
    "Read the data into a dataframe and show the size"
   ]
  },
  {
   "cell_type": "code",
   "execution_count": 53,
   "metadata": {},
   "outputs": [
    {
     "data": {
      "text/plain": [
       "(1571, 12)"
      ]
     },
     "execution_count": 53,
     "metadata": {},
     "output_type": "execute_result"
    }
   ],
   "source": [
    "df.shape"
   ]
  },
  {
   "cell_type": "markdown",
   "metadata": {},
   "source": [
    "Have a quick look to the data.\n",
    "- use the .shape attribute to see the size\n",
    "- use the `.head()` function to see column names and some data\n",
    "- use the `.hist()` method for an histogram of the columns\n",
    "- use the .unique method to see the class values"
   ]
  },
  {
   "cell_type": "code",
   "execution_count": 54,
   "metadata": {},
   "outputs": [
    {
     "data": {
      "text/html": [
       "<div>\n",
       "<style scoped>\n",
       "    .dataframe tbody tr th:only-of-type {\n",
       "        vertical-align: middle;\n",
       "    }\n",
       "\n",
       "    .dataframe tbody tr th {\n",
       "        vertical-align: top;\n",
       "    }\n",
       "\n",
       "    .dataframe thead th {\n",
       "        text-align: right;\n",
       "    }\n",
       "</style>\n",
       "<table border=\"1\" class=\"dataframe\">\n",
       "  <thead>\n",
       "    <tr style=\"text-align: right;\">\n",
       "      <th></th>\n",
       "      <th>fixed acidity</th>\n",
       "      <th>volatile acidity</th>\n",
       "      <th>citric acid</th>\n",
       "      <th>residual sugar</th>\n",
       "      <th>chlorides</th>\n",
       "      <th>free sulfur dioxide</th>\n",
       "      <th>total sulfur dioxide</th>\n",
       "      <th>density</th>\n",
       "      <th>pH</th>\n",
       "      <th>sulphates</th>\n",
       "      <th>alcohol</th>\n",
       "      <th>quality</th>\n",
       "    </tr>\n",
       "  </thead>\n",
       "  <tbody>\n",
       "    <tr>\n",
       "      <th>0</th>\n",
       "      <td>7.4</td>\n",
       "      <td>0.70</td>\n",
       "      <td>0.00</td>\n",
       "      <td>1.9</td>\n",
       "      <td>0.076</td>\n",
       "      <td>11.0</td>\n",
       "      <td>34.0</td>\n",
       "      <td>0.9978</td>\n",
       "      <td>3.51</td>\n",
       "      <td>0.56</td>\n",
       "      <td>9.4</td>\n",
       "      <td>5</td>\n",
       "    </tr>\n",
       "    <tr>\n",
       "      <th>1</th>\n",
       "      <td>7.8</td>\n",
       "      <td>0.88</td>\n",
       "      <td>0.00</td>\n",
       "      <td>2.6</td>\n",
       "      <td>0.098</td>\n",
       "      <td>25.0</td>\n",
       "      <td>67.0</td>\n",
       "      <td>0.9968</td>\n",
       "      <td>3.20</td>\n",
       "      <td>0.68</td>\n",
       "      <td>9.8</td>\n",
       "      <td>5</td>\n",
       "    </tr>\n",
       "    <tr>\n",
       "      <th>2</th>\n",
       "      <td>7.8</td>\n",
       "      <td>0.76</td>\n",
       "      <td>0.04</td>\n",
       "      <td>2.3</td>\n",
       "      <td>0.092</td>\n",
       "      <td>15.0</td>\n",
       "      <td>54.0</td>\n",
       "      <td>0.9970</td>\n",
       "      <td>3.26</td>\n",
       "      <td>0.65</td>\n",
       "      <td>9.8</td>\n",
       "      <td>5</td>\n",
       "    </tr>\n",
       "    <tr>\n",
       "      <th>3</th>\n",
       "      <td>11.2</td>\n",
       "      <td>0.28</td>\n",
       "      <td>0.56</td>\n",
       "      <td>1.9</td>\n",
       "      <td>0.075</td>\n",
       "      <td>17.0</td>\n",
       "      <td>60.0</td>\n",
       "      <td>0.9980</td>\n",
       "      <td>3.16</td>\n",
       "      <td>0.58</td>\n",
       "      <td>9.8</td>\n",
       "      <td>6</td>\n",
       "    </tr>\n",
       "    <tr>\n",
       "      <th>4</th>\n",
       "      <td>7.4</td>\n",
       "      <td>0.70</td>\n",
       "      <td>0.00</td>\n",
       "      <td>1.9</td>\n",
       "      <td>0.076</td>\n",
       "      <td>11.0</td>\n",
       "      <td>34.0</td>\n",
       "      <td>0.9978</td>\n",
       "      <td>3.51</td>\n",
       "      <td>0.56</td>\n",
       "      <td>9.4</td>\n",
       "      <td>5</td>\n",
       "    </tr>\n",
       "  </tbody>\n",
       "</table>\n",
       "</div>"
      ],
      "text/plain": [
       "   fixed acidity  volatile acidity  citric acid  residual sugar  chlorides  \\\n",
       "0            7.4              0.70         0.00             1.9      0.076   \n",
       "1            7.8              0.88         0.00             2.6      0.098   \n",
       "2            7.8              0.76         0.04             2.3      0.092   \n",
       "3           11.2              0.28         0.56             1.9      0.075   \n",
       "4            7.4              0.70         0.00             1.9      0.076   \n",
       "\n",
       "   free sulfur dioxide  total sulfur dioxide  density    pH  sulphates  \\\n",
       "0                 11.0                  34.0   0.9978  3.51       0.56   \n",
       "1                 25.0                  67.0   0.9968  3.20       0.68   \n",
       "2                 15.0                  54.0   0.9970  3.26       0.65   \n",
       "3                 17.0                  60.0   0.9980  3.16       0.58   \n",
       "4                 11.0                  34.0   0.9978  3.51       0.56   \n",
       "\n",
       "   alcohol  quality  \n",
       "0      9.4        5  \n",
       "1      9.8        5  \n",
       "2      9.8        5  \n",
       "3      9.8        6  \n",
       "4      9.4        5  "
      ]
     },
     "execution_count": 54,
     "metadata": {},
     "output_type": "execute_result"
    }
   ],
   "source": [
    "df.head()"
   ]
  },
  {
   "cell_type": "markdown",
   "metadata": {},
   "source": [
    "Show an histogram of the target labels frequencies (hint: use the `value_counts` method)"
   ]
  },
  {
   "cell_type": "code",
   "execution_count": 55,
   "metadata": {},
   "outputs": [
    {
     "data": {
      "image/png": "[encoded data removed]",
      "text/plain": [
       "<Figure size 640x480 with 1 Axes>"
      ]
     },
     "metadata": {},
     "output_type": "display_data"
    }
   ],
   "source": [
    "y.value_counts().plot(kind=\"bar\")\n",
    "plt.show()"
   ]
  },
  {
   "cell_type": "markdown",
   "metadata": {},
   "source": [
    "#### Split the data into the predicting values X and the class y\n",
    "Drop also the columns which are not relevant for training a classifier, if any\n",
    "\n",
    "The method \"drop\" of dataframes allows to drop either rows or columns\n",
    "- the \"axis\" parameter chooses between dropping rows (axis=0) or columns (axis=1)"
   ]
  },
  {
   "cell_type": "code",
   "execution_count": 56,
   "metadata": {},
   "outputs": [
    {
     "data": {
      "image/png": "[encoded data removed]",
      "text/plain": [
       "<Figure size 640x480 with 1 Axes>"
      ]
     },
     "metadata": {},
     "output_type": "display_data"
    }
   ],
   "source": [
    "# Split X and y into train and test, with test size 20% of the total\n",
    "X_train, X_test, y_train, y_test = train_test_split(\n",
    "    X, y, test_size=0.33, random_state=1\n",
    ")\n",
    "\n",
    "# overfitting\n",
    "from imblearn.over_sampling import RandomOverSampler\n",
    "\n",
    "oversample = RandomOverSampler(sampling_strategy=\"minority\")\n",
    "X_train, y_train = oversample.fit_resample(\n",
    "    X_train, y_train\n",
    ")  # oversample df.quality = 4\n",
    "X_train, y_train = oversample.fit_resample(\n",
    "    X_train, y_train\n",
    ")  # oversample df.quality = 7\n",
    "y_train.value_counts().plot(kind=\"bar\")\n",
    "plt.show()"
   ]
  },
  {
   "cell_type": "markdown",
   "metadata": {},
   "source": [
    "### Prepare the baseline: holdout method"
   ]
  },
  {
   "cell_type": "code",
   "execution_count": 57,
   "metadata": {},
   "outputs": [
    {
     "name": "stdout",
     "output_type": "stream",
     "text": [
      "X:\t (1571, 11)\n",
      "X_train: (1805, 11)\n",
      "X_test:\t (519, 11)\n",
      "y:\t (1571,)\n",
      "y_train: (1805,)\n",
      "y_test:\t (519,)\n"
     ]
    }
   ],
   "source": [
    "print(\"X:\\t\", X.shape)\n",
    "print(\"X_train:\", X_train.shape)\n",
    "print(\"X_test:\\t\", X_test.shape)\n",
    "print(\"y:\\t\", y.shape)\n",
    "print(\"y_train:\", y_train.shape)\n",
    "print(\"y_test:\\t\", y_test.shape)"
   ]
  },
  {
   "cell_type": "markdown",
   "metadata": {},
   "source": [
    "- Initialize an estimator with the required model generator `tree.DecisionTreeClassifier(criterion=\"entropy\")`\n",
    "- Fit the estimator on the train data and target"
   ]
  },
  {
   "cell_type": "code",
   "execution_count": 58,
   "metadata": {},
   "outputs": [],
   "source": [
    "clf = DecisionTreeClassifier(criterion=\"entropy\")\n",
    "clf = clf.fit(X_train, y_train)\n",
    "y_pred = clf.predict(X_train)"
   ]
  },
  {
   "cell_type": "code",
   "execution_count": 59,
   "metadata": {},
   "outputs": [
    {
     "name": "stdout",
     "output_type": "stream",
     "text": [
      "Accuracy: 1.0\n",
      "Accuracy:\n",
      "               precision    recall  f1-score   support\n",
      "\n",
      "           4       1.00      1.00      1.00       459\n",
      "           5       1.00      1.00      1.00       459\n",
      "           6       1.00      1.00      1.00       428\n",
      "           7       1.00      1.00      1.00       459\n",
      "\n",
      "    accuracy                           1.00      1805\n",
      "   macro avg       1.00      1.00      1.00      1805\n",
      "weighted avg       1.00      1.00      1.00      1805\n",
      "\n"
     ]
    }
   ],
   "source": [
    "print(\"Accuracy:\", metrics.accuracy_score(y_train, y_pred))\n",
    "print(\"Accuracy:\\n\", classification_report(y_train, y_pred))"
   ]
  },
  {
   "cell_type": "markdown",
   "metadata": {},
   "source": [
    "Let's see how it works on test data, and, comparing with the result on training data, see if you can suspect *overfitting*\n",
    "- use the fitted estimator to predict using the test features\n",
    "- compute the accuracy and store it on a variable for the final summary\n",
    "- store the maximum depth of the tree, for later use \n",
    "    - `fitted_max_depth = estimator.tree_.max_depth`\n",
    "- store the range of the parameter which will be used for tuning\n",
    "    - `parameter_values = range(1,fitted_max_depth+1)`\n",
    "- print the accuracy on the test set and the maximum depth of the tree"
   ]
  },
  {
   "cell_type": "code",
   "execution_count": 60,
   "metadata": {},
   "outputs": [
    {
     "name": "stdout",
     "output_type": "stream",
     "text": [
      "Accuracy: 0.603082851637765 \n",
      "Max tree depth: 17\n",
      "Accuracy:\n",
      "               precision    recall  f1-score   support\n",
      "\n",
      "           4       0.17      0.11      0.13        19\n",
      "           5       0.71      0.71      0.71       222\n",
      "           6       0.59      0.62      0.60       210\n",
      "           7       0.38      0.35      0.37        68\n",
      "\n",
      "    accuracy                           0.60       519\n",
      "   macro avg       0.46      0.45      0.45       519\n",
      "weighted avg       0.60      0.60      0.60       519\n",
      "\n"
     ]
    }
   ],
   "source": [
    "y_pred = clf.predict(X_test)\n",
    "accuracy = metrics.accuracy_score(y_test, y_pred)\n",
    "fitted_max_depth = clf.tree_.max_depth\n",
    "\n",
    "print(\"Accuracy:\", accuracy, \"\\nMax tree depth:\", fitted_max_depth)\n",
    "print(\"Accuracy:\\n\", classification_report(y_test, y_pred))"
   ]
  },
  {
   "cell_type": "markdown",
   "metadata": {},
   "source": [
    "Prepare the decision tree parameters and the scores "
   ]
  },
  {
   "cell_type": "code",
   "execution_count": 61,
   "metadata": {
    "slideshow": {
     "slide_type": "fragment"
    }
   },
   "outputs": [],
   "source": [
    "# Set the parameters by cross-validation\n",
    "parameters = [\n",
    "    {\n",
    "        \"max_depth\": [*range(1, fitted_max_depth + 1)],\n",
    "        \"criterion\": [\"entropy\", \"gini\"],\n",
    "    }\n",
    "]\n",
    "\n",
    "scores = [\n",
    "    \"accuracy\"\n",
    "    # , 'precision_macro'\n",
    "    ,\n",
    "    \"recall_macro\",\n",
    "    \"f1_macro\",\n",
    "]"
   ]
  },
  {
   "cell_type": "markdown",
   "metadata": {
    "slideshow": {
     "slide_type": "slide"
    }
   },
   "source": [
    "### Loop on scores\n",
    "- iterate varying the score function\n",
    "    - fit the estimator using the training data and Cross Validation with `GridSearchCV(estimator, parameters, cv_folds)`\n",
    "        - the resulting model will be the best one according to the current score function\n",
    "    - print the best estimator\n",
    "    - print the best parameter set and the results for each set of parameters using the above defined function\n",
    "    - predict the target for the test set using the `.predict` method\n",
    "    - print the classification report\n",
    "    - display the confusion matrix with `ConfusionMatrixDisplay`"
   ]
  },
  {
   "cell_type": "code",
   "execution_count": 62,
   "metadata": {
    "scrolled": true,
    "slideshow": {
     "slide_type": "fragment"
    }
   },
   "outputs": [
    {
     "name": "stdout",
     "output_type": "stream",
     "text": [
      "################################################\n",
      "# Tuning hyper-parameters for accuracy\n"
     ]
    },
    {
     "name": "stdout",
     "output_type": "stream",
     "text": [
      "DecisionTreeClassifier(max_depth=17)\n",
      "{'criterion': 'gini', 'max_depth': 17}\n",
      "Accuracy: 0.5741811175337187\n",
      "              precision    recall  f1-score   support\n",
      "\n",
      "           4       0.21      0.16      0.18        19\n",
      "           5       0.66      0.66      0.66       222\n",
      "           6       0.55      0.59      0.57       210\n",
      "           7       0.43      0.38      0.41        68\n",
      "\n",
      "    accuracy                           0.57       519\n",
      "   macro avg       0.46      0.45      0.45       519\n",
      "weighted avg       0.57      0.57      0.57       519\n",
      "\n"
     ]
    },
    {
     "data": {
      "image/png": "[encoded data removed]",
      "text/plain": [
       "<Figure size 640x480 with 2 Axes>"
      ]
     },
     "metadata": {},
     "output_type": "display_data"
    },
    {
     "name": "stdout",
     "output_type": "stream",
     "text": [
      "################################################\n",
      "# Tuning hyper-parameters for recall_macro\n",
      "DecisionTreeClassifier(max_depth=16)\n",
      "{'criterion': 'gini', 'max_depth': 16}\n",
      "Accuracy: 0.5664739884393064\n",
      "              precision    recall  f1-score   support\n",
      "\n",
      "           4       0.24      0.21      0.22        19\n",
      "           5       0.64      0.65      0.65       222\n",
      "           6       0.55      0.57      0.56       210\n",
      "           7       0.42      0.38      0.40        68\n",
      "\n",
      "    accuracy                           0.57       519\n",
      "   macro avg       0.46      0.45      0.46       519\n",
      "weighted avg       0.56      0.57      0.56       519\n",
      "\n"
     ]
    },
    {
     "data": {
      "image/png": "[encoded data removed]",
      "text/plain": [
       "<Figure size 640x480 with 2 Axes>"
      ]
     },
     "metadata": {},
     "output_type": "display_data"
    },
    {
     "name": "stdout",
     "output_type": "stream",
     "text": [
      "################################################\n",
      "# Tuning hyper-parameters for f1_macro\n",
      "DecisionTreeClassifier(max_depth=16)\n",
      "{'criterion': 'gini', 'max_depth': 16}\n",
      "Accuracy: 0.5953757225433526\n",
      "              precision    recall  f1-score   support\n",
      "\n",
      "           4       0.29      0.21      0.24        19\n",
      "           5       0.66      0.70      0.68       222\n",
      "           6       0.58      0.58      0.58       210\n",
      "           7       0.45      0.41      0.43        68\n",
      "\n",
      "    accuracy                           0.60       519\n",
      "   macro avg       0.50      0.48      0.48       519\n",
      "weighted avg       0.59      0.60      0.59       519\n",
      "\n"
     ]
    },
    {
     "data": {
      "image/png": "[encoded data removed]",
      "text/plain": [
       "<Figure size 640x480 with 2 Axes>"
      ]
     },
     "metadata": {},
     "output_type": "display_data"
    }
   ],
   "source": [
    "for score in scores:\n",
    "    print(\"################################################\")\n",
    "    print(\"# Tuning hyper-parameters for\", score)\n",
    "    grid = GridSearchCV(\n",
    "        DecisionTreeClassifier(), parameters, scoring=score\n",
    "    )\n",
    "\n",
    "    grid.fit(X_train, y_train)\n",
    "    print(grid.best_estimator_)\n",
    "    print(grid.best_params_)\n",
    "\n",
    "    y_pred = grid.predict(X_test)\n",
    "    print(\"Accuracy:\", metrics.accuracy_score(y_test, y_pred))\n",
    "    print(classification_report(y_test, y_pred))\n",
    "\n",
    "    y_pred_df = pd.DataFrame({\"quality\": y_pred}, index=X_test.index)\n",
    "    ConfusionMatrixDisplay.from_predictions(y_test, y_pred, cmap=plt.cm.Blues)\n",
    "    plt.xlabel(\"y_pred\")\n",
    "    plt.ylabel(\"y_test\")\n",
    "    plt.title(score)\n",
    "    plt.show()"
   ]
  }
 ],
 "metadata": {
  "celltoolbar": "Slideshow",
  "kernelspec": {
   "display_name": "Python 3.7.13 ('res')",
   "language": "python",
   "name": "python3"
  },
  "language_info": {
   "codemirror_mode": {
    "name": "ipython",
    "version": 3
   },
   "file_extension": ".py",
   "mimetype": "text/x-python",
   "name": "python",
   "nbconvert_exporter": "python",
   "pygments_lexer": "ipython3",
   "version": "3.10.10"
  },
  "vscode": {
   "interpreter": {
    "hash": "7650257707f3238d5df88771c66da47b78c5077cb779498608c81dcf9deec5b5"
   }
  }
 },
 "nbformat": 4,
 "nbformat_minor": 2
}
